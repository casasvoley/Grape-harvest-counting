{
  "cells": [
    {
      "cell_type": "code",
      "execution_count": 1,
      "metadata": {
        "colab": {
          "base_uri": "https://localhost:8080/"
        },
        "id": "JyRdMz-tYyXL",
        "outputId": "9fad00ee-5158-4134-c687-5ec323c357fc"
      },
      "outputs": [
        {
          "output_type": "stream",
          "name": "stdout",
          "text": [
            "Cloning into 'Grape-harvest-predictor'...\n",
            "remote: Enumerating objects: 850, done.\u001b[K\n",
            "remote: Counting objects: 100% (334/334), done.\u001b[K\n",
            "remote: Compressing objects: 100% (219/219), done.\u001b[K\n",
            "remote: Total 850 (delta 124), reused 314 (delta 114), pack-reused 516\u001b[K\n",
            "Receiving objects: 100% (850/850), 1.47 GiB | 14.27 MiB/s, done.\n",
            "Resolving deltas: 100% (256/256), done.\n",
            "Updating files: 100% (785/785), done.\n"
          ]
        }
      ],
      "source": [
        "!git clone https://github.com/casasvoley/Grape-harvest-predictor"
      ]
    },
    {
      "cell_type": "code",
      "execution_count": 2,
      "metadata": {
        "id": "fmDOF6Q8Z2CC"
      },
      "outputs": [],
      "source": [
        "import os\n",
        "from random import choice\n",
        "import shutil"
      ]
    },
    {
      "cell_type": "code",
      "execution_count": 3,
      "metadata": {
        "id": "6q9Q8-7oasFj"
      },
      "outputs": [],
      "source": [
        "# setup dir names\n",
        "PATH = '/content/Grape-harvest-predictor/datasets/grapes/train/' #dir where images and annotations stored\n",
        "TRAIN_PATH = PATH + 'original/train/'\n",
        "VAL_PATH = PATH + 'original/val/'\n",
        "TEST_PATH = PATH + 'original/test/'\n",
        "\n",
        "# setup ratio (val ratio = rest of the files in origin dir after splitting into train and test)\n",
        "train_ratio = 0.8\n",
        "test_ratio = 0.1"
      ]
    },
    {
      "cell_type": "code",
      "execution_count": 17,
      "metadata": {
        "colab": {
          "base_uri": "https://localhost:8080/"
        },
        "id": "WjW11IbwZzq5",
        "outputId": "de011e18-b7db-4662-8195-192062b22463"
      },
      "outputs": [
        {
          "output_type": "stream",
          "name": "stdout",
          "text": [
            "Total images:  165\n",
            "Images in train dir: 132\n",
            "Images in test dir: 16\n",
            "Images in validation dir: 17\n"
          ]
        }
      ],
      "source": [
        "# arrays to store file names\n",
        "images = []\n",
        "xmls = []\n",
        "txts = []\n",
        "\n",
        "# create dirs\n",
        "os.makedirs(TRAIN_PATH, exist_ok = True)\n",
        "os.makedirs(TEST_PATH, exist_ok = True)\n",
        "os.makedirs(VAL_PATH, exist_ok = True)\n",
        "\n",
        "# total count of imgs\n",
        "totalImgCount = 0\n",
        "\n",
        "# soring files to corresponding arrays\n",
        "for (dirname, dirs, files) in os.walk(PATH):\n",
        "    for filename in files:\n",
        "        if filename.endswith('.xml'):\n",
        "            xmls.append(filename)\n",
        "        elif filename.endswith('.txt'):\n",
        "            txts.append(filename)\n",
        "        elif filename.endswith('.jpg'):\n",
        "            images.append(filename)\n",
        "            totalImgCount += 1\n",
        "\n",
        "\n",
        "# counting range for cycles\n",
        "countForTrain = int(len(images)*train_ratio)\n",
        "countForTest = int(len(images)*test_ratio)\n",
        "\n",
        "# cycle for train dir\n",
        "for x in range(countForTrain):\n",
        "\n",
        "    fileJpg = choice(images) # get name of random image from origin dir\n",
        "    fileXml = fileJpg[:-4] +'.xml' # get name of corresponding annotation file\n",
        "    fileTxt = fileJpg[:-4] +'.txt' # get name of corresponding text annotation file\n",
        "\n",
        "    # move files into train dir\n",
        "    shutil.move(os.path.join(PATH, fileJpg), os.path.join(TRAIN_PATH, fileJpg))\n",
        "    shutil.move(os.path.join(PATH, fileXml), os.path.join(TRAIN_PATH, fileXml))\n",
        "    shutil.move(os.path.join(PATH, fileTxt), os.path.join(TRAIN_PATH, fileTxt))\n",
        "\n",
        "    # remove files from arrays\n",
        "    images.remove(fileJpg)\n",
        "    xmls.remove(fileXml)\n",
        "    txts.remove(fileTxt)\n",
        "\n",
        "# cycle for test dir\n",
        "for x in range(countForTest):\n",
        "\n",
        "    fileJpg = choice(images) # get name of random image from origin dir\n",
        "    fileXml = fileJpg[:-4] +'.xml' # get name of corresponding annotation file\n",
        "    fileTxt = fileJpg[:-4] +'.txt' # get name of corresponding text annotation file\n",
        "\n",
        "    # move files into test dir\n",
        "    shutil.move(os.path.join(PATH, fileJpg), os.path.join(TEST_PATH, fileJpg))\n",
        "    shutil.move(os.path.join(PATH, fileXml), os.path.join(TEST_PATH, fileXml))\n",
        "    shutil.move(os.path.join(PATH, fileTxt), os.path.join(TEST_PATH, fileTxt))\n",
        "\n",
        "    # remove files from arrays\n",
        "    images.remove(fileJpg)\n",
        "    xmls.remove(fileXml)\n",
        "    txts.remove(fileTxt)\n",
        "\n",
        "# rest of files will be validation files, so move from origin dir to val dir\n",
        "for fileJpg in images:\n",
        "\n",
        "    fileXml = fileJpg[:-4] +'.xml' # get name of corresponding annotation file\n",
        "    fileTxt = fileJpg[:-4] +'.txt' # get name of corresponding text annotation file\n",
        "\n",
        "    # move files into train dir\n",
        "    shutil.move(os.path.join(PATH, fileJpg), os.path.join(VAL_PATH, fileJpg))\n",
        "    shutil.move(os.path.join(PATH, fileXml), os.path.join(VAL_PATH, fileXml))\n",
        "    shutil.move(os.path.join(PATH, fileTxt), os.path.join(VAL_PATH, fileTxt))\n",
        "\n",
        "#summary information after splitting\n",
        "print('Total images: ', totalImgCount)\n",
        "print('Images in train dir:', int(len(os.listdir(TRAIN_PATH))/3))\n",
        "print('Images in test dir:', int(len(os.listdir(TEST_PATH))/3))\n",
        "print('Images in validation dir:', int(len(os.listdir(VAL_PATH))/3))"
      ]
    },
    {
      "cell_type": "code",
      "execution_count": 15,
      "metadata": {
        "id": "oiSjgPc6fsl2"
      },
      "outputs": [],
      "source": [
        "# this cell is for undoing the split\n",
        "\n",
        "for (dirname, dirs, files) in os.walk(TRAIN_PATH):\n",
        "  for filename in files:\n",
        "    shutil.move(os.path.join(TRAIN_PATH, filename), os.path.join(PATH, filename))\n",
        "\n",
        "for (dirname, dirs, files) in os.walk(TEST_PATH):\n",
        "  for filename in files:\n",
        "    shutil.move(os.path.join(TEST_PATH, filename), os.path.join(PATH, filename))\n",
        "\n",
        "for (dirname, dirs, files) in os.walk(VAL_PATH):\n",
        "  for filename in files:\n",
        "    shutil.move(os.path.join(VAL_PATH, filename), os.path.join(PATH, filename))"
      ]
    },
    {
      "cell_type": "code",
      "execution_count": 18,
      "metadata": {
        "colab": {
          "base_uri": "https://localhost:8080/"
        },
        "id": "aFNyOYQUl0Nf",
        "outputId": "d2992c67-9473-4786-abb5-328f2e56a3d0"
      },
      "outputs": [
        {
          "output_type": "stream",
          "name": "stdout",
          "text": [
            "165 165 165\n"
          ]
        }
      ],
      "source": [
        "im_num = 0\n",
        "xml_num = 0\n",
        "txt_num = 0\n",
        "for (dirname, dirs, files) in os.walk(PATH):\n",
        "  for filename in files:\n",
        "        if filename.endswith('.xml'):\n",
        "            xml_num += 1\n",
        "        elif filename.endswith('.txt'):\n",
        "            txt_num += 1\n",
        "        elif filename.endswith('.jpg'):\n",
        "            im_num += 1\n",
        "print(im_num, xml_num, txt_num)"
      ]
    }
  ],
  "metadata": {
    "colab": {
      "provenance": []
    },
    "kernelspec": {
      "display_name": "yolo_env",
      "language": "python",
      "name": "python3"
    },
    "language_info": {
      "codemirror_mode": {
        "name": "ipython",
        "version": 3
      },
      "file_extension": ".py",
      "mimetype": "text/x-python",
      "name": "python",
      "nbconvert_exporter": "python",
      "pygments_lexer": "ipython3",
      "version": "3.11.3"
    },
    "orig_nbformat": 4
  },
  "nbformat": 4,
  "nbformat_minor": 0
}
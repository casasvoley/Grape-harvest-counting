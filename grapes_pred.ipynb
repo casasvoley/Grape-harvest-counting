{
 "cells": [
  {
   "cell_type": "code",
   "execution_count": 2,
   "metadata": {},
   "outputs": [
    {
     "data": {
      "text/plain": [
       "True"
      ]
     },
     "execution_count": 2,
     "metadata": {},
     "output_type": "execute_result"
    }
   ],
   "source": [
    "import torch\n",
    "from ultralytics import YOLO\n",
    "torch.has_mps"
   ]
  },
  {
   "cell_type": "code",
   "execution_count": 15,
   "metadata": {},
   "outputs": [
    {
     "name": "stderr",
     "output_type": "stream",
     "text": [
      "\n",
      "image 1/25 /Users/baudi/AI/practicas/grapes/datasets/test/1601972492403.jpg: 608x800 21 grapes, 61.6ms\n",
      "image 2/25 /Users/baudi/AI/practicas/grapes/datasets/test/1601978897102.jpg: 608x800 21 grapes, 57.7ms\n",
      "image 3/25 /Users/baudi/AI/practicas/grapes/datasets/test/1601978936382.jpg: 608x800 20 grapes, 60.5ms\n",
      "image 4/25 /Users/baudi/AI/practicas/grapes/datasets/test/1601978944467.jpg: 608x800 16 grapes, 68.8ms\n",
      "image 5/25 /Users/baudi/AI/practicas/grapes/datasets/test/1601980429759.jpg: 608x800 28 grapes, 59.2ms\n",
      "image 6/25 /Users/baudi/AI/practicas/grapes/datasets/test/1601981598827.jpg: 608x800 9 grapes, 63.7ms\n",
      "image 7/25 /Users/baudi/AI/practicas/grapes/datasets/test/1601981873104.jpg: 608x800 17 grapes, 57.1ms\n",
      "image 8/25 /Users/baudi/AI/practicas/grapes/datasets/test/1601982179184.jpg: 608x800 22 grapes, 54.9ms\n",
      "image 9/25 /Users/baudi/AI/practicas/grapes/datasets/test/1602066707321.jpg: 608x800 21 grapes, 56.7ms\n",
      "image 10/25 /Users/baudi/AI/practicas/grapes/datasets/test/1602141746308.jpg: 608x800 19 grapes, 57.9ms\n",
      "image 11/25 /Users/baudi/AI/practicas/grapes/datasets/test/1602141947198.jpg: 608x800 12 grapes, 58.6ms\n",
      "image 12/25 /Users/baudi/AI/practicas/grapes/datasets/test/1602149490446.jpg: 608x800 23 grapes, 59.2ms\n",
      "image 13/25 /Users/baudi/AI/practicas/grapes/datasets/test/1602151303019.jpg: 608x800 20 grapes, 57.0ms\n",
      "image 14/25 /Users/baudi/AI/practicas/grapes/datasets/test/1602152204447.jpg: 608x800 22 grapes, 55.2ms\n",
      "image 15/25 /Users/baudi/AI/practicas/grapes/datasets/test/1603273593575.jpg: 608x800 7 grapes, 57.8ms\n",
      "image 16/25 /Users/baudi/AI/practicas/grapes/datasets/test/1606994183464.jpg: 608x800 23 grapes, 57.5ms\n",
      "image 17/25 /Users/baudi/AI/practicas/grapes/datasets/test/1606994725823.jpg: 608x800 20 grapes, 53.4ms\n",
      "image 18/25 /Users/baudi/AI/practicas/grapes/datasets/test/1606994792667.jpg: 608x800 27 grapes, 53.5ms\n",
      "image 19/25 /Users/baudi/AI/practicas/grapes/datasets/test/1606994877322.jpg: 608x800 20 grapes, 56.1ms\n",
      "image 20/25 /Users/baudi/AI/practicas/grapes/datasets/test/1606995463632.jpg: 608x800 25 grapes, 58.7ms\n",
      "image 21/25 /Users/baudi/AI/practicas/grapes/datasets/test/1606995675733.jpg: 608x800 2 grapes, 56.8ms\n",
      "image 22/25 /Users/baudi/AI/practicas/grapes/datasets/test/1606995956803.jpg: 608x800 16 grapes, 54.6ms\n",
      "image 23/25 /Users/baudi/AI/practicas/grapes/datasets/test/1606996024118.jpg: 608x800 25 grapes, 53.6ms\n",
      "image 24/25 /Users/baudi/AI/practicas/grapes/datasets/test/1606996110310.jpg: 608x800 21 grapes, 75.0ms\n",
      "image 25/25 /Users/baudi/AI/practicas/grapes/datasets/test/1606996172741.jpg: 608x800 11 grapes, 54.2ms\n",
      "Speed: 2.8ms preprocess, 58.4ms inference, 0.5ms postprocess per image at shape (1, 3, 800, 800)\n",
      "Results saved to \u001b[1mruns/detect/predict46\u001b[0m\n",
      "25 labels saved to runs/detect/predict46/labels\n"
     ]
    }
   ],
   "source": [
    "model = YOLO(\"/Users/baudi/AI/practicas/grapes/runs/detect/train90/weights/best.pt\")\n",
    "results = model.predict(source=\"/Users/baudi/AI/practicas/grapes/datasets/test\", save=True, save_txt=True, agnostic_nms=False, iou=0.25, line_width=5, conf=0.16, show_labels=False)\n"
   ]
  }
 ],
 "metadata": {
  "kernelspec": {
   "display_name": "yolo_env",
   "language": "python",
   "name": "python3"
  },
  "language_info": {
   "codemirror_mode": {
    "name": "ipython",
    "version": 3
   },
   "file_extension": ".py",
   "mimetype": "text/x-python",
   "name": "python",
   "nbconvert_exporter": "python",
   "pygments_lexer": "ipython3",
   "version": "3.11.3"
  },
  "orig_nbformat": 4
 },
 "nbformat": 4,
 "nbformat_minor": 2
}
